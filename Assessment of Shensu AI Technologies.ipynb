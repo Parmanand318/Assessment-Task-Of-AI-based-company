{
 "cells": [
  {
   "cell_type": "code",
   "execution_count": 7,
   "id": "b5291295",
   "metadata": {},
   "outputs": [
    {
     "name": "stdout",
     "output_type": "stream",
     "text": [
      "Requirement already satisfied: yfinance in c:\\anaconda\\lib\\site-packages (0.2.28)\n",
      "Requirement already satisfied: lxml>=4.9.1 in c:\\anaconda\\lib\\site-packages (from yfinance) (4.9.3)\n",
      "Requirement already satisfied: frozendict>=2.3.4 in c:\\anaconda\\lib\\site-packages (from yfinance) (2.3.8)\n",
      "Requirement already satisfied: beautifulsoup4>=4.11.1 in c:\\anaconda\\lib\\site-packages (from yfinance) (4.12.2)\n",
      "Requirement already satisfied: pytz>=2022.5 in c:\\anaconda\\lib\\site-packages (from yfinance) (2023.3)\n",
      "Requirement already satisfied: requests>=2.31 in c:\\anaconda\\lib\\site-packages (from yfinance) (2.31.0)\n",
      "Requirement already satisfied: appdirs>=1.4.4 in c:\\anaconda\\lib\\site-packages (from yfinance) (1.4.4)\n",
      "Requirement already satisfied: numpy>=1.16.5 in c:\\anaconda\\lib\\site-packages (from yfinance) (1.20.3)\n",
      "Requirement already satisfied: html5lib>=1.1 in c:\\anaconda\\lib\\site-packages (from yfinance) (1.1)\n",
      "Requirement already satisfied: pandas>=1.3.0 in c:\\anaconda\\lib\\site-packages (from yfinance) (1.3.4)\n",
      "Requirement already satisfied: multitasking>=0.0.7 in c:\\anaconda\\lib\\site-packages (from yfinance) (0.0.11)\n",
      "Requirement already satisfied: soupsieve>1.2 in c:\\anaconda\\lib\\site-packages (from beautifulsoup4>=4.11.1->yfinance) (2.2.1)\n",
      "Requirement already satisfied: six>=1.9 in c:\\users\\dm\\appdata\\roaming\\python\\python39\\site-packages (from html5lib>=1.1->yfinance) (1.16.0)\n",
      "Requirement already satisfied: webencodings in c:\\anaconda\\lib\\site-packages (from html5lib>=1.1->yfinance) (0.5.1)\n",
      "Requirement already satisfied: python-dateutil>=2.7.3 in c:\\users\\dm\\appdata\\roaming\\python\\python39\\site-packages (from pandas>=1.3.0->yfinance) (2.8.2)\n",
      "Requirement already satisfied: certifi>=2017.4.17 in c:\\anaconda\\lib\\site-packages (from requests>=2.31->yfinance) (2021.10.8)\n",
      "Requirement already satisfied: idna<4,>=2.5 in c:\\anaconda\\lib\\site-packages (from requests>=2.31->yfinance) (2.10)\n",
      "Requirement already satisfied: charset-normalizer<4,>=2 in c:\\anaconda\\lib\\site-packages (from requests>=2.31->yfinance) (2.0.4)\n",
      "Requirement already satisfied: urllib3<3,>=1.21.1 in c:\\anaconda\\lib\\site-packages (from requests>=2.31->yfinance) (1.26.7)\n",
      "Note: you may need to restart the kernel to use updated packages.\n"
     ]
    },
    {
     "name": "stderr",
     "output_type": "stream",
     "text": [
      "\n",
      "[notice] A new release of pip available: 22.2.2 -> 23.2.1\n",
      "[notice] To update, run: python.exe -m pip install --upgrade pip\n"
     ]
    }
   ],
   "source": [
    "pip install yfinance"
   ]
  },
  {
   "cell_type": "code",
   "execution_count": 8,
   "id": "e92ce738",
   "metadata": {},
   "outputs": [
    {
     "name": "stdout",
     "output_type": "stream",
     "text": [
      "Collecting apscheduler\n",
      "  Downloading APScheduler-3.10.4-py3-none-any.whl (59 kB)\n",
      "     -------------------------------------- 59.3/59.3 kB 629.0 kB/s eta 0:00:00\n",
      "Requirement already satisfied: pytz in c:\\anaconda\\lib\\site-packages (from apscheduler) (2023.3)\n",
      "Requirement already satisfied: six>=1.4.0 in c:\\users\\dm\\appdata\\roaming\\python\\python39\\site-packages (from apscheduler) (1.16.0)\n",
      "Requirement already satisfied: tzlocal!=3.*,>=2.0 in c:\\anaconda\\lib\\site-packages (from apscheduler) (4.2)\n",
      "Requirement already satisfied: tzdata in c:\\anaconda\\lib\\site-packages (from tzlocal!=3.*,>=2.0->apscheduler) (2022.5)\n",
      "Requirement already satisfied: pytz-deprecation-shim in c:\\anaconda\\lib\\site-packages (from tzlocal!=3.*,>=2.0->apscheduler) (0.1.0.post0)\n",
      "Installing collected packages: apscheduler\n",
      "Successfully installed apscheduler-3.10.4\n",
      "Note: you may need to restart the kernel to use updated packages.\n"
     ]
    },
    {
     "name": "stderr",
     "output_type": "stream",
     "text": [
      "\n",
      "[notice] A new release of pip available: 22.2.2 -> 23.2.1\n",
      "[notice] To update, run: python.exe -m pip install --upgrade pip\n"
     ]
    }
   ],
   "source": [
    "pip install apscheduler"
   ]
  },
  {
   "cell_type": "code",
   "execution_count": 1,
   "id": "2088b674",
   "metadata": {},
   "outputs": [],
   "source": [
    "import yfinance as yf\n",
    "import pymongo\n",
    "from apscheduler.schedulers.background import BackgroundScheduler\n",
    "from datetime import datetime, timedelta"
   ]
  },
  {
   "cell_type": "code",
   "execution_count": 2,
   "id": "a9943bfe",
   "metadata": {},
   "outputs": [],
   "source": [
    "# Initialize MongoDB connection\n",
    "client = pymongo.MongoClient(\"mongodb://localhost:27017/\")\n",
    "db = client[\"stock_data\"]\n",
    "collection = db[\"icici_bank\"]"
   ]
  },
  {
   "cell_type": "code",
   "execution_count": 3,
   "id": "c6e4bcc2",
   "metadata": {},
   "outputs": [],
   "source": [
    "def fetch_and_store_data():\n",
    "    now = datetime.now()\n",
    "    start_time = now.replace(hour=11, minute=15, second=0, microsecond=0)\n",
    "    end_time = now.replace(hour=14, minute=15, second=0, microsecond=0)\n",
    "\n",
    "    if start_time <= now <= end_time:\n",
    "        ticker = \"ICICIBANK.NS\"\n",
    "        icici_bank = yf.Ticker(ticker)\n",
    "        data = icici_bank.history(period='1d')\n",
    "        current_time = now.strftime(\"%Y-%m-%d %H:%M:%S\")\n",
    "\n",
    "        # Store the data in MongoDB\n",
    "        data_dict = {\n",
    "            \"timestamp\": current_time,\n",
    "            \"data\": data.to_dict(orient='split')\n",
    "        }\n",
    "        collection.insert_one(data_dict)\n",
    "        print(f\"Data saved for {current_time}\")"
   ]
  },
  {
   "cell_type": "code",
   "execution_count": 4,
   "id": "7765bb1c",
   "metadata": {},
   "outputs": [],
   "source": [
    "scheduler = BackgroundScheduler()\n",
    "scheduler.add_job(fetch_and_store_data, 'interval', minutes=15)\n",
    "scheduler.start()"
   ]
  },
  {
   "cell_type": "code",
   "execution_count": null,
   "id": "dc643436",
   "metadata": {},
   "outputs": [],
   "source": [
    "try:\n",
    "    print(\"Press Ctrl+C to stop the program.\")\n",
    "    while True:\n",
    "        pass\n",
    "except KeyboardInterrupt:\n",
    "    scheduler.shutdown()\n",
    "    print(\"Program stopped.\")"
   ]
  },
  {
   "cell_type": "code",
   "execution_count": null,
   "id": "cf187b6f",
   "metadata": {},
   "outputs": [],
   "source": []
  }
 ],
 "metadata": {
  "kernelspec": {
   "display_name": "Python 3 (ipykernel)",
   "language": "python",
   "name": "python3"
  },
  "language_info": {
   "codemirror_mode": {
    "name": "ipython",
    "version": 3
   },
   "file_extension": ".py",
   "mimetype": "text/x-python",
   "name": "python",
   "nbconvert_exporter": "python",
   "pygments_lexer": "ipython3",
   "version": "3.9.7"
  }
 },
 "nbformat": 4,
 "nbformat_minor": 5
}
